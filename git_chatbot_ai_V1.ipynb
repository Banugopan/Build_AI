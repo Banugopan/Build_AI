{
  "nbformat": 4,
  "nbformat_minor": 0,
  "metadata": {
    "colab": {
      "provenance": [],
      "authorship_tag": "ABX9TyPcuelkT+Cepx1FqV5EzzkO",
      "include_colab_link": true
    },
    "kernelspec": {
      "name": "python3",
      "display_name": "Python 3"
    },
    "language_info": {
      "name": "python"
    }
  },
  "cells": [
    {
      "cell_type": "markdown",
      "metadata": {
        "id": "view-in-github",
        "colab_type": "text"
      },
      "source": [
        "<a href=\"https://colab.research.google.com/github/Banugopan/Build_AI/blob/main/git_chatbot_ai_V1.ipynb\" target=\"_parent\"><img src=\"https://colab.research.google.com/assets/colab-badge.svg\" alt=\"Open In Colab\"/></a>"
      ]
    },
    {
      "cell_type": "markdown",
      "source": [
        "🔹 Block 0 – Installation et Ngrok"
      ],
      "metadata": {
        "id": "tAosmOG4AIJn"
      }
    },
    {
      "cell_type": "code",
      "source": [
        "!pip -q install fastapi uvicorn twilio nest_asyncio pyngrok openai\n",
        "\n",
        "from pyngrok import ngrok, conf\n",
        "ngrok.kill()  # ferme tous les anciens tunnels (évite erreurs 502)\n",
        "\n",
        "# === authtoken ngrok ===\n",
        "NGROK_AUTHTOKEN = \"\"\n",
        "ngrok.set_auth_token(NGROK_AUTHTOKEN)\n",
        "conf.get_default().region = \"eu\"  # proche de Paris\n",
        "\n",
        "public_tunnel = ngrok.connect(8000, \"http\")\n",
        "PUBLIC_BASE_URL = public_tunnel.public_url\n",
        "print(\"PUBLIC_BASE_URL =\", PUBLIC_BASE_URL)\n"
      ],
      "metadata": {
        "colab": {
          "base_uri": "https://localhost:8080/"
        },
        "id": "4bAhZmLgU8bo",
        "outputId": "9dedc2ed-e829-4d2c-bcc3-e996527a1e9a"
      },
      "execution_count": null,
      "outputs": [
        {
          "output_type": "stream",
          "name": "stdout",
          "text": [
            "PUBLIC_BASE_URL = https://unputridly-roseolar-sharlene.ngrok-free.dev\n"
          ]
        }
      ]
    },
    {
      "cell_type": "markdown",
      "source": [
        "🔹 Block 1 – Variables Twilio et OpenAI"
      ],
      "metadata": {
        "id": "nRwHXD5BALVv"
      }
    },
    {
      "cell_type": "code",
      "source": [
        "import os\n",
        "\n",
        "# === Twilio ===\n",
        "TWILIO_ACCOUNT_SID = \"\"\n",
        "TWILIO_AUTH_TOKEN  = \"\"\n",
        "TWILIO_FROM        = \"+\"  # numéro Twilio acheté (E.164 : +44, +1, +33...)\n",
        "\n",
        "# === OpenAI ===\n",
        "os.environ[\"OPENAI_API_KEY\"] = \"\"  # ta clé OpenAI"
      ],
      "metadata": {
        "id": "lfdBVBBnasyK"
      },
      "execution_count": null,
      "outputs": []
    },
    {
      "cell_type": "markdown",
      "source": [
        "🔹 Block 2 – Application FastAPI"
      ],
      "metadata": {
        "id": "sSPuXZFgANjX"
      }
    },
    {
      "cell_type": "code",
      "source": [
        "# === Block 2 : Application FastAPI (FR) ===\n",
        "from fastapi import FastAPI, Request\n",
        "from fastapi.responses import Response\n",
        "from twilio.rest import Client\n",
        "import nest_asyncio, uvicorn, threading, time, os\n",
        "from openai import OpenAI\n",
        "\n",
        "nest_asyncio.apply()\n",
        "\n",
        "# --- Clients ---\n",
        "twilio_client = Client(TWILIO_ACCOUNT_SID, TWILIO_AUTH_TOKEN)\n",
        "client_ai = OpenAI()                                # lit OPENAI_API_KEY\n",
        "client_ai_fast = client_ai.with_options(timeout=20) # timeout GPT (20s)\n",
        "\n",
        "# --- FastAPI app ---\n",
        "app = FastAPI()\n",
        "\n",
        "def twiml(xml: str) -> Response:\n",
        "    \"\"\"Retourne une réponse TwiML (XML) pour Twilio.\"\"\"\n",
        "    return Response(content=xml, media_type=\"text/xml; charset=utf-8\")\n",
        "\n",
        "@app.get(\"/health\")\n",
        "def health():\n",
        "    return {\"ok\": True, \"base\": PUBLIC_BASE_URL}\n",
        "\n",
        "@app.post(\"/call\")\n",
        "async def make_call(to: str):\n",
        "    \"\"\"Déclenche un appel sortant via Twilio vers le numéro 'to'.\"\"\"\n",
        "    print(f\">>> /call -> {to}\", flush=True)\n",
        "    call = twilio_client.calls.create(\n",
        "        to=to,\n",
        "        from_=TWILIO_FROM,\n",
        "        url=f\"{PUBLIC_BASE_URL}/voice\"   # Twilio ira chercher le TwiML ici\n",
        "        # method=\"GET\"  # décommente si tu veux forcer GET\n",
        "    )\n",
        "    print(f\">>> CALL SID = {call.sid}\", flush=True)\n",
        "    return {\"sid\": call.sid}\n",
        "\n",
        "# ✅ Accepte GET et POST (selon config Twilio)\n",
        "@app.api_route(\"/voice\", methods=[\"GET\", \"POST\"])\n",
        "async def voice():\n",
        "    \"\"\"Première réponse vocale envoyée à Twilio (invite l’utilisateur à parler/appuyer).\"\"\"\n",
        "    print(\">>> /voice (GET/POST)\", flush=True)\n",
        "    xml = f\"\"\"<?xml version=\"1.0\" encoding=\"UTF-8\"?>\n",
        "<Response>\n",
        "  <Say language=\"fr-FR\" voice=\"alice\">Bonjour ! Je suis votre manageur , vous allez bien ? .</Say>\n",
        "  <Pause length=\"1\"/>\n",
        "  <Gather input=\"speech dtmf\" language=\"fr-FR\"\n",
        "          action=\"{PUBLIC_BASE_URL}/bot\" method=\"POST\"\n",
        "          timeout=\"6\" numDigits=\"1\" speechTimeout=\"auto\" />\n",
        "  <Say language=\"fr-FR\" voice=\"alice\">Je n'ai rien entendu. Au revoir.</Say>\n",
        "  <Hangup/>\n",
        "</Response>\"\"\"\n",
        "    return twiml(xml)\n",
        "\n",
        "@app.post(\"/bot\")\n",
        "async def bot(request: Request):\n",
        "    \"\"\"Reçoit la transcription (SpeechResult) ou les digits (Digits), appelle GPT, et renvoie du TwiML.\"\"\"\n",
        "    try:\n",
        "        form = await request.form()\n",
        "        speech = (form.get(\"SpeechResult\") or \"\").strip()\n",
        "        digits = (form.get(\"Digits\") or \"\").strip()\n",
        "        print(f\">>> /bot  Speech='{speech}'  Digits='{digits}'\", flush=True)\n",
        "\n",
        "        # Texte utilisateur (parole ou touche)\n",
        "        if speech:\n",
        "            user_text = speech\n",
        "        elif digits:\n",
        "            user_text = f\"Vous avez appuyé sur {digits}.\"\n",
        "        else:\n",
        "            # Rien reçu -> relance Gather\n",
        "            retry = f\"\"\"<?xml version=\"1.0\" encoding=\"UTF-8\"?>\n",
        "<Response>\n",
        "  <Say language=\"fr-FR\" voice=\"alice\">Je n'ai pas bien entendu. Pouvez-vous répéter ou appuyer sur une touche ?</Say>\n",
        "  <Gather input=\"speech dtmf\" language=\"fr-FR\"\n",
        "          action=\"{PUBLIC_BASE_URL}/bot\" method=\"POST\"\n",
        "          timeout=\"6\" numDigits=\"1\" />\n",
        "</Response>\"\"\"\n",
        "            return twiml(retry)\n",
        "\n",
        "        # 🔧 Appel GPT avec timeout (20s)\n",
        "        try:\n",
        "            completion = client_ai_fast.chat.completions.create(\n",
        "                model=\"gpt-4o-mini\",\n",
        "                messages=[\n",
        "                    {\n",
        "                        \"role\": \"system\",\n",
        "                        \"content\": (\n",
        "                            \"Tu es un assistant téléphonique sympathique, clair et concis. \"\n",
        "                            \"Tu réponds UNIQUEMENT en français, en une ou deux phrases maximum.\"\n",
        "                        ),\n",
        "                    },\n",
        "                    {\"role\": \"user\", \"content\": user_text}\n",
        "                ]\n",
        "            )\n",
        "            ai_reply = completion.choices[0].message.content.strip()\n",
        "        except Exception as e:\n",
        "            print(\">>> GPT timeout/err:\", repr(e), flush=True)\n",
        "            ai_reply = \"D'accord. Dites autre chose ou appuyez sur une touche.\"\n",
        "\n",
        "        # Répondre puis réécouter\n",
        "        xml = f\"\"\"<?xml version=\"1.0\" encoding=\"UTF-8\"?>\n",
        "<Response>\n",
        "  <Say language=\"fr-FR\" voice=\"alice\">{ai_reply}</Say>\n",
        "  <Gather input=\"speech dtmf\" language=\"fr-FR\"\n",
        "          action=\"{PUBLIC_BASE_URL}/bot\" method=\"POST\"\n",
        "          timeout=\"6\" numDigits=\"1\" />\n",
        "</Response>\"\"\"\n",
        "        return twiml(xml)\n",
        "\n",
        "    except Exception as e:\n",
        "        print(\">>> ERROR in /bot:\", repr(e), flush=True)\n",
        "        fallback = f\"\"\"<?xml version=\"1.0\" encoding=\"UTF-8\"?>\n",
        "<Response>\n",
        "  <Say language=\"fr-FR\" voice=\"alice\">Oups, petit souci technique. On réessaie.</Say>\n",
        "  <Gather input=\"speech dtmf\" language=\"fr-FR\"\n",
        "          action=\"{PUBLIC_BASE_URL}/bot\" method=\"POST\"\n",
        "          timeout=\"6\" numDigits=\"1\" />\n",
        "</Response>\"\"\"\n",
        "        return twiml(fallback)\n",
        "\n",
        "# 🚫 Tue un éventuel ancien serveur sur le port 8000 (utile en notebooks)\n",
        "os.system(\"fuser -k 8000/tcp\")\n",
        "\n",
        "# ▶️ Lance le serveur FastAPI en arrière-plan\n",
        "def run_server():\n",
        "    uvicorn.run(app, host=\"0.0.0.0\", port=8000, log_level=\"info\")\n",
        "\n",
        "th = threading.Thread(target=run_server, daemon=True)\n",
        "th.start()\n",
        "time.sleep(1)\n",
        "print(\"✅ Serveur lancé en arrière-plan (FR).\")"
      ],
      "metadata": {
        "id": "mhHWknfyaxlX",
        "colab": {
          "base_uri": "https://localhost:8080/"
        },
        "outputId": "647c301d-daae-4eb8-ba03-fdaad99c90cf"
      },
      "execution_count": null,
      "outputs": [
        {
          "output_type": "stream",
          "name": "stderr",
          "text": [
            "INFO:     Started server process [3662]\n",
            "INFO:     Waiting for application startup.\n",
            "INFO:     Application startup complete.\n",
            "INFO:     Uvicorn running on http://0.0.0.0:8000 (Press CTRL+C to quit)\n"
          ]
        },
        {
          "output_type": "stream",
          "name": "stdout",
          "text": [
            "✅ Serveur lancé en arrière-plan (FR).\n"
          ]
        }
      ]
    },
    {
      "cell_type": "markdown",
      "source": [
        "🔹 Block 3 – Test du bot directement (sans Twilio)"
      ],
      "metadata": {
        "id": "Bb_ZryeyAGSD"
      }
    },
    {
      "cell_type": "code",
      "source": [
        "import requests\n",
        "\n",
        "#  URL publique générée par ngrok (Bloc 0)\n",
        "url = f\"{PUBLIC_BASE_URL}/bot\"\n",
        "\n",
        "# On simule ce que Twilio enverrait\n",
        "data = {\"SpeechResult\": \"Hello, how are you?\"}\n",
        "\n",
        "resp = requests.post(url, data=data)\n",
        "print(\"Status:\", resp.status_code)\n",
        "print(\"Reponse XML:\")\n",
        "print(resp.text)\n"
      ],
      "metadata": {
        "colab": {
          "base_uri": "https://localhost:8080/"
        },
        "id": "6SGigYrp4K4m",
        "outputId": "36b4789c-2400-428c-e283-d6d2cf811c98"
      },
      "execution_count": null,
      "outputs": [
        {
          "output_type": "stream",
          "name": "stdout",
          "text": [
            ">>> /bot  Speech='Hello, how are you?'  Digits=''\n",
            "INFO:     34.148.146.92:0 - \"POST /bot HTTP/1.1\" 200 OK\n",
            "Status: 200\n",
            "Reponse XML:\n",
            "<?xml version=\"1.0\" encoding=\"UTF-8\"?>\n",
            "<Response>\n",
            "  <Say language=\"fr-FR\" voice=\"alice\">Bonjour ! Je suis là pour vous aider. Que puis-je faire pour vous aujourd'hui ?</Say>\n",
            "  <Gather input=\"speech dtmf\" language=\"fr-FR\"\n",
            "          action=\"https://unputridly-roseolar-sharlene.ngrok-free.dev/bot\" method=\"POST\"\n",
            "          timeout=\"6\" numDigits=\"1\" />\n",
            "</Response>\n"
          ]
        }
      ]
    },
    {
      "cell_type": "markdown",
      "source": [
        "🔹 Block 4 – Test du serveur local"
      ],
      "metadata": {
        "id": "lBZzUutsAUQ0"
      }
    },
    {
      "cell_type": "code",
      "source": [
        "import requests, time\n",
        "time.sleep(0.5)\n",
        "r = requests.get(\"http://127.0.0.1:8000/health\", timeout=5)\n",
        "print(r.status_code, r.json())"
      ],
      "metadata": {
        "colab": {
          "base_uri": "https://localhost:8080/"
        },
        "id": "mHEmPNJkbPdS",
        "outputId": "f5ca6da4-0797-4c98-b0ba-f72c35f16a77"
      },
      "execution_count": null,
      "outputs": [
        {
          "output_type": "stream",
          "name": "stdout",
          "text": [
            "INFO:     127.0.0.1:37876 - \"GET /health HTTP/1.1\" 200 OK\n",
            "200 {'ok': True, 'base': 'https://unputridly-roseolar-sharlene.ngrok-free.dev'}\n"
          ]
        }
      ]
    },
    {
      "cell_type": "markdown",
      "source": [
        "🔹 Block 5 – Passer un appel Twilio"
      ],
      "metadata": {
        "id": "tha6btnNAViU"
      }
    },
    {
      "cell_type": "code",
      "source": [
        "import requests\n",
        "\n",
        "TO_NUMBER = \"\"  #  mobile validé (ex: 06… → +336…)\n",
        "resp = requests.post(\"http://127.0.0.1:8000/call\", params={\"to\": TO_NUMBER}, timeout=20)\n",
        "print(resp.status_code, resp.text)\n"
      ],
      "metadata": {
        "colab": {
          "base_uri": "https://localhost:8080/"
        },
        "id": "fhyQ2kycbRqp",
        "outputId": "85393976-4ae5-485a-ed3a-2965aa8d97af"
      },
      "execution_count": null,
      "outputs": [
        {
          "output_type": "stream",
          "name": "stdout",
          "text": [
            ">>> /call -> +33652486608\n",
            ">>> CALL SID = CA0f15d2b950aaebf9c9015cf4e5603441\n",
            "INFO:     127.0.0.1:42972 - \"POST /call?to=%2B33652486608 HTTP/1.1\" 200 OK\n",
            "200 {\"sid\":\"CA0f15d2b950aaebf9c9015cf4e5603441\"}\n"
          ]
        }
      ]
    }
  ]
}